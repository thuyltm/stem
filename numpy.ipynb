{
 "cells": [
  {
   "cell_type": "code",
   "execution_count": 3,
   "id": "eed016fd-634b-49e6-b507-c4aca18c5673",
   "metadata": {},
   "outputs": [],
   "source": [
    "import numpy as np"
   ]
  },
  {
   "cell_type": "markdown",
   "id": "a87cc5c0-67f8-4670-be06-49ecb6376f7c",
   "metadata": {},
   "source": [
    "**1D Array**"
   ]
  },
  {
   "cell_type": "code",
   "execution_count": 4,
   "id": "9da656d8-7d97-4182-861e-9549557e3caa",
   "metadata": {},
   "outputs": [
    {
     "name": "stdout",
     "output_type": "stream",
     "text": [
      "[1 2 3 4 5]\n",
      "<class 'numpy.ndarray'>\n"
     ]
    }
   ],
   "source": [
    "arr = np.array([1, 2, 3, 4, 5])\n",
    "print(arr)\n",
    "print(type(arr))"
   ]
  },
  {
   "cell_type": "markdown",
   "id": "2035b286-cb27-4a52-9899-08213516896e",
   "metadata": {},
   "source": [
    "**2D Array**"
   ]
  },
  {
   "cell_type": "code",
   "execution_count": 5,
   "id": "c8948406-1cd3-47d7-a135-712ed6f483bd",
   "metadata": {},
   "outputs": [
    {
     "name": "stdout",
     "output_type": "stream",
     "text": [
      "[[1 2 3]\n",
      " [4 5 6]]\n",
      "(2, 3)\n",
      "2\n",
      "int64\n",
      "6\n",
      "8\n"
     ]
    }
   ],
   "source": [
    "arr = np.array([[1, 2, 3],[4, 5, 6]])\n",
    "print(arr)\n",
    "print(arr.shape)\n",
    "print(arr.ndim)\n",
    "print(arr.dtype)\n",
    "print(arr.size)\n",
    "print(arr.itemsize)"
   ]
  },
  {
   "cell_type": "markdown",
   "id": "eeeecf6e-6d04-4bce-9b53-7be6b51c3e06",
   "metadata": {},
   "source": [
    "**3D Array**"
   ]
  },
  {
   "cell_type": "code",
   "execution_count": 6,
   "id": "58702cae-c669-48f0-85a5-83608f3537aa",
   "metadata": {},
   "outputs": [
    {
     "name": "stdout",
     "output_type": "stream",
     "text": [
      "[[1 2 3]\n",
      " [4 5 6]]\n",
      "[[ 7  8  9]\n",
      " [10 11 12]]\n",
      "[1 2 3]\n",
      "[4 5 6]\n",
      "[7 8 9]\n",
      "[10 11 12]\n"
     ]
    }
   ],
   "source": [
    "arr = np.array([[[1,2,3],[4,5,6]],[[7,8,9],[10,11,12]]])\n",
    "print(arr[0])\n",
    "print(arr[1])\n",
    "print(arr[0,0])\n",
    "print(arr[0,1])\n",
    "print(arr[1,0])\n",
    "print(arr[1,1])"
   ]
  },
  {
   "cell_type": "markdown",
   "id": "3d82c111-9ee0-4eb1-bfa1-f0ee9e1c016e",
   "metadata": {},
   "source": [
    "### array index"
   ]
  },
  {
   "cell_type": "markdown",
   "id": "8414928b-9a85-4ec8-afbf-5567e79aadcd",
   "metadata": {},
   "source": [
    "**access 1D Array**"
   ]
  },
  {
   "cell_type": "code",
   "execution_count": 7,
   "id": "397d580f-eb4d-486a-a941-4cd6167623df",
   "metadata": {},
   "outputs": [
    {
     "name": "stdout",
     "output_type": "stream",
     "text": [
      "1\n",
      "2\n",
      "7\n"
     ]
    }
   ],
   "source": [
    "arr = np.array([1, 2, 3, 4])\n",
    "print(arr[0])\n",
    "print(arr[1])\n",
    "print(arr[2]+arr[3])"
   ]
  },
  {
   "cell_type": "markdown",
   "id": "f0f7aa85-9ee0-42ac-b1c6-c0a5ee0d631d",
   "metadata": {},
   "source": [
    "**access 2D Array**"
   ]
  },
  {
   "cell_type": "code",
   "execution_count": 8,
   "id": "476c9b71-031c-4073-9dfb-cc5db58c11e1",
   "metadata": {},
   "outputs": [
    {
     "name": "stdout",
     "output_type": "stream",
     "text": [
      "2nd element on 1st row:  2\n",
      "5th element on 2nd row:  10\n"
     ]
    }
   ],
   "source": [
    "arr = np.array([[1,2,3,4,5],[6,7,8,9,10]])\n",
    "print('2nd element on 1st row: ', arr[0, 1])\n",
    "print('5th element on 2nd row: ', arr[1, 4]) "
   ]
  },
  {
   "cell_type": "markdown",
   "id": "c6fcccc4-2140-453a-bf44-e270a308ee69",
   "metadata": {},
   "source": [
    "**access 3D Array**"
   ]
  },
  {
   "cell_type": "code",
   "execution_count": 9,
   "id": "eb3a2ab2-6be7-40fe-bdb4-2850e5856945",
   "metadata": {},
   "outputs": [
    {
     "name": "stdout",
     "output_type": "stream",
     "text": [
      "[1 2 3]\n",
      "[4 5 6]\n",
      "[[ 4  5  6]\n",
      " [10 11 12]]\n",
      "[[1 2 3]\n",
      " [7 8 9]]\n",
      "[ 4 10]\n",
      "[ 5 11]\n",
      "[ 6 12]\n",
      "[[ 4  5  6]\n",
      " [10 11 12]]\n"
     ]
    }
   ],
   "source": [
    "arr = np.array([[[1,2,3],[4,5,6]],[[7,8,9],[10,11,12]]])\n",
    "print(arr[0,0])\n",
    "print(arr[0,1])\n",
    "print(arr[:,1])\n",
    "print(arr[:,0,:])\n",
    "print(arr[:,1,0])\n",
    "print(arr[:,1,1])\n",
    "print(arr[:,1,2])\n",
    "print(arr[:,1,:])#3d array"
   ]
  },
  {
   "cell_type": "markdown",
   "id": "a4d44762-cde2-411e-abc2-fb7bd3dc8c7d",
   "metadata": {},
   "source": [
    "**negative indexing**"
   ]
  },
  {
   "cell_type": "code",
   "execution_count": 10,
   "id": "8ee080bd-d467-42a3-ba7b-4c86efcdbe76",
   "metadata": {},
   "outputs": [
    {
     "name": "stdout",
     "output_type": "stream",
     "text": [
      "Last element of 2nd dim: 10\n"
     ]
    }
   ],
   "source": [
    "arr = np.array([[1,2,3,4,5],[6,7,8,9,10]])\n",
    "print('Last element of 2nd dim:', arr[1, -1])"
   ]
  },
  {
   "cell_type": "markdown",
   "id": "2f199d7a-faf6-45d2-a8f5-8d3953e42dae",
   "metadata": {},
   "source": [
    "### array slicing __[:]__"
   ]
  },
  {
   "cell_type": "code",
   "execution_count": 11,
   "id": "edb6704c-f8a0-414c-b62b-6dc124b4a252",
   "metadata": {},
   "outputs": [
    {
     "name": "stdout",
     "output_type": "stream",
     "text": [
      "[2 3 4 5]\n",
      "[5 6 7]\n",
      "[1 2 3 4]\n"
     ]
    }
   ],
   "source": [
    "arr = np.array([1,2,3,4,5,6,7])\n",
    "print(arr[1:5])\n",
    "print(arr[4:])\n",
    "print(arr[:4])#not included"
   ]
  },
  {
   "cell_type": "markdown",
   "id": "970c189d-0aab-4a99-bc97-892d6ac24e66",
   "metadata": {},
   "source": [
    "**negative slicing**"
   ]
  },
  {
   "cell_type": "code",
   "execution_count": 12,
   "id": "e955fecb-f4f6-434f-aed7-3f7be0a6b7d3",
   "metadata": {},
   "outputs": [
    {
     "name": "stdout",
     "output_type": "stream",
     "text": [
      "[5 6]\n"
     ]
    }
   ],
   "source": [
    "print(arr[-3:-1])"
   ]
  },
  {
   "cell_type": "markdown",
   "id": "2861af8c-6a98-4438-b82c-41b3b124682d",
   "metadata": {},
   "source": [
    "**step determines the step of the slicing**"
   ]
  },
  {
   "cell_type": "code",
   "execution_count": 13,
   "id": "fa5eaac7-d8a4-4633-8229-501012092ec2",
   "metadata": {},
   "outputs": [
    {
     "name": "stdout",
     "output_type": "stream",
     "text": [
      "[2 4]\n",
      "[1 3 5 7]\n"
     ]
    }
   ],
   "source": [
    "print(arr[1:5:2])\n",
    "print(arr[::2])"
   ]
  },
  {
   "cell_type": "markdown",
   "id": "b26e3b67-6c96-4533-a651-0cb31be279ff",
   "metadata": {},
   "source": [
    "**slice 2D Array**"
   ]
  },
  {
   "cell_type": "code",
   "execution_count": 14,
   "id": "4e4502fa-2877-4225-8b99-031f8107f101",
   "metadata": {},
   "outputs": [
    {
     "name": "stdout",
     "output_type": "stream",
     "text": [
      "[7 8 9]\n",
      "[3 8]\n",
      "[[1 2 3 4 5]]\n",
      "[2]\n"
     ]
    }
   ],
   "source": [
    "arr = np.array([[1,2,3,4,5],[6,7,8,9,10]])\n",
    "print(arr[1, 1:4])\n",
    "print(arr[0:2, 2])\n",
    "print(arr[0:1, :])\n",
    "print(arr[0:1, 1])"
   ]
  },
  {
   "cell_type": "markdown",
   "id": "f930cbbc-fb30-4f53-ac43-f506d16db2d8",
   "metadata": {},
   "source": [
    "### data types"
   ]
  },
  {
   "cell_type": "code",
   "execution_count": 15,
   "id": "c8137671-5047-4ece-8970-da7f71892d54",
   "metadata": {
    "scrolled": true
   },
   "outputs": [
    {
     "name": "stdout",
     "output_type": "stream",
     "text": [
      "int64\n",
      "<U6\n",
      "|S1\n",
      "int32\n",
      "[1 2 3]\n",
      "int32\n",
      "[ True False  True]\n",
      "bool\n"
     ]
    }
   ],
   "source": [
    "arr = np.array([1, 2, 3, 4])\n",
    "print(arr.dtype)\n",
    "arr = np.array(['apple', 'banana', 'cherry'])\n",
    "print(arr.dtype)\n",
    "arr = np.array([1,2,3,4], dtype='S')\n",
    "print(arr.dtype)\n",
    "arr = np.array([1, 2, 3, 4], dtype='i4')\n",
    "print(arr.dtype)\n",
    "arr = np.array([1.1, 2.1, 3.1])\n",
    "newarr = arr.astype('i')\n",
    "print(newarr)\n",
    "print(newarr.dtype)\n",
    "arr = np.array([1, 0, 3])\n",
    "newarr = arr.astype(bool)\n",
    "print(newarr)\n",
    "print(newarr.dtype)"
   ]
  },
  {
   "cell_type": "markdown",
   "id": "34cb9f9e-fcd3-4e3e-9ee6-5ab2837af4b8",
   "metadata": {},
   "source": [
    "### Copy vs View"
   ]
  },
  {
   "cell_type": "code",
   "execution_count": 16,
   "id": "9e36f639-efe4-40c6-9e3c-0ea2e3d58a84",
   "metadata": {},
   "outputs": [
    {
     "name": "stdout",
     "output_type": "stream",
     "text": [
      "[42  2 44  4  5]\n",
      "[ 1 43  3  4  5]\n",
      "[42  2 44  4  5]\n",
      "None\n",
      "[42  2 44  4  5]\n"
     ]
    }
   ],
   "source": [
    "arr = np.array([1, 2, 3, 4, 5])\n",
    "x = arr.copy()\n",
    "y = arr.view()\n",
    "arr[0] = 42\n",
    "x[1] = 43\n",
    "y[2] = 44\n",
    "print(arr)\n",
    "print(x)\n",
    "print(y)\n",
    "print(x.base)\n",
    "print(y.base)"
   ]
  },
  {
   "cell_type": "markdown",
   "id": "186a35fa-b742-4410-b36b-271ab77f6b94",
   "metadata": {},
   "source": [
    "### the shape of an array"
   ]
  },
  {
   "cell_type": "code",
   "execution_count": 17,
   "id": "112b58ea-5545-4d3a-90b9-43a176504bb9",
   "metadata": {},
   "outputs": [
    {
     "name": "stdout",
     "output_type": "stream",
     "text": [
      "(2, 4)\n"
     ]
    }
   ],
   "source": [
    "arr = np.array([[1, 2, 3, 4],[5, 6, 7, 8]])\n",
    "print(arr.shape)"
   ]
  },
  {
   "cell_type": "code",
   "execution_count": 18,
   "id": "7142cb8d-483f-48ed-a239-dba6d050c539",
   "metadata": {},
   "outputs": [
    {
     "name": "stdout",
     "output_type": "stream",
     "text": [
      "[[[[[1 2 3 4]]]]]\n",
      "shape of array : (1, 1, 1, 1, 4)\n"
     ]
    }
   ],
   "source": [
    "arr = np.array([1, 2, 3, 4], ndmin=5)\n",
    "print(arr)\n",
    "print('shape of array :', arr.shape)"
   ]
  },
  {
   "cell_type": "markdown",
   "id": "7f9f5c5f-2674-48ae-97b9-03241cc1074b",
   "metadata": {},
   "source": [
    "**by shaping, we can change the number of elements in each dimension**"
   ]
  },
  {
   "cell_type": "code",
   "execution_count": 19,
   "id": "00be7d41-97cc-48ce-a3ae-8553186ac754",
   "metadata": {},
   "outputs": [
    {
     "name": "stdout",
     "output_type": "stream",
     "text": [
      "[[ 1  2  3]\n",
      " [ 4  5  6]\n",
      " [ 7  8  9]\n",
      " [10 11 12]]\n"
     ]
    }
   ],
   "source": [
    "arr = np.array([1, 2, 3, 4, 5, 6, 7, 8, 9, 10, 11, 12])\n",
    "newarr = arr.reshape(4, 3)\n",
    "print(newarr)"
   ]
  },
  {
   "cell_type": "markdown",
   "id": "98bdd1fe-7c07-4898-b6ee-5aae3293cc33",
   "metadata": {},
   "source": [
    "**reshape from 1D to 3D**"
   ]
  },
  {
   "cell_type": "code",
   "execution_count": 20,
   "id": "47a9bd9f-aa1d-460d-a5ad-ae2c54977e54",
   "metadata": {},
   "outputs": [
    {
     "name": "stdout",
     "output_type": "stream",
     "text": [
      "[[[ 1  2]\n",
      "  [ 3  4]\n",
      "  [ 5  6]]\n",
      "\n",
      " [[ 7  8]\n",
      "  [ 9 10]\n",
      "  [11 12]]]\n",
      "[ 1  2  3  4  5  6  7  8  9 10 11 12]\n"
     ]
    }
   ],
   "source": [
    "arr = np.array([1, 2, 3, 4, 5, 6, 7, 8, 9, 10, 11, 12])\n",
    "newarr = arr.reshape(2, 3, 2)\n",
    "print(newarr)\n",
    "print(newarr.base)"
   ]
  },
  {
   "cell_type": "markdown",
   "id": "c13a139b-5f9b-4057-889c-4517fff29ad9",
   "metadata": {},
   "source": [
    "**you are allowed to have one \"unknown\" dimension**"
   ]
  },
  {
   "cell_type": "code",
   "execution_count": 21,
   "id": "ad85463b-d06a-468f-b1da-3b0de83cdca2",
   "metadata": {},
   "outputs": [
    {
     "name": "stdout",
     "output_type": "stream",
     "text": [
      "[[[1 2]\n",
      "  [3 4]]\n",
      "\n",
      " [[5 6]\n",
      "  [7 8]]]\n"
     ]
    }
   ],
   "source": [
    "arr = np.array([1, 2, 3, 4, 5, 6, 7, 8])\n",
    "newarr = arr.reshape(2, 2, -1)\n",
    "print(newarr)"
   ]
  },
  {
   "cell_type": "markdown",
   "id": "0587a7e7-d042-44fa-9d22-d261ae56de35",
   "metadata": {},
   "source": [
    "**flattening array means converting a multidimensional array into a 1D array**"
   ]
  },
  {
   "cell_type": "code",
   "execution_count": 22,
   "id": "ba84c95b-ee93-4989-9e2a-8ef738c1045a",
   "metadata": {},
   "outputs": [
    {
     "name": "stdout",
     "output_type": "stream",
     "text": [
      "[1 2 3 4 5 6]\n"
     ]
    }
   ],
   "source": [
    "arr = np.array([[1, 2, 3], [4, 5, 6]])\n",
    "newarr = arr.reshape(-1)\n",
    "print(newarr)"
   ]
  },
  {
   "cell_type": "markdown",
   "id": "1349e21e-9f79-4989-8460-c4c518fa17a3",
   "metadata": {},
   "source": [
    "### Array Iterating"
   ]
  },
  {
   "cell_type": "code",
   "execution_count": 23,
   "id": "f767f358-83c6-4644-9d19-2f74fb53a399",
   "metadata": {},
   "outputs": [
    {
     "name": "stdout",
     "output_type": "stream",
     "text": [
      "1\n",
      "2\n",
      "3\n",
      "4\n",
      "5\n",
      "6\n",
      "7\n",
      "8\n",
      "9\n",
      "10\n",
      "11\n",
      "12\n"
     ]
    }
   ],
   "source": [
    "arr = np.array([[[1,2,3],[4,5,6]],[[7,8,9],[10,11,12]]])\n",
    "for x in arr:\n",
    "    for y in x:\n",
    "        for z in y:\n",
    "            print(z)"
   ]
  },
  {
   "cell_type": "code",
   "execution_count": 24,
   "id": "e2b02aa9-9c6c-4f80-aff2-078b4d2e2f0f",
   "metadata": {},
   "outputs": [
    {
     "name": "stdout",
     "output_type": "stream",
     "text": [
      "1\n",
      "2\n",
      "3\n",
      "4\n",
      "5\n",
      "6\n",
      "7\n",
      "8\n"
     ]
    }
   ],
   "source": [
    "arr = np.array([[[1, 2], [3, 4]], [[5, 6], [7, 8]]])\n",
    "for x in np.nditer(arr):\n",
    "    print(x)"
   ]
  },
  {
   "cell_type": "code",
   "execution_count": 25,
   "id": "78008e49-6e74-4724-ac40-01e5875e078b",
   "metadata": {},
   "outputs": [
    {
     "name": "stdout",
     "output_type": "stream",
     "text": [
      "np.bytes_(b'1')\n",
      "np.bytes_(b'2')\n",
      "np.bytes_(b'3')\n"
     ]
    }
   ],
   "source": [
    "arr = np.array([1, 2, 3])\n",
    "for x in np.nditer(arr, flags=['buffered'], op_dtypes=['S']):\n",
    "    print(x)"
   ]
  },
  {
   "cell_type": "markdown",
   "id": "155328d2-daf5-4f82-954d-e2321b8e01d7",
   "metadata": {},
   "source": [
    "**iterate through every scalar element of the 2D array skipping 1 element**"
   ]
  },
  {
   "cell_type": "code",
   "execution_count": 26,
   "id": "4076f3c9-0d84-4c02-8576-e166747afaeb",
   "metadata": {},
   "outputs": [
    {
     "name": "stdout",
     "output_type": "stream",
     "text": [
      "1\n",
      "3\n",
      "5\n",
      "7\n"
     ]
    }
   ],
   "source": [
    "arr = np.array([[1, 2, 3, 4], [5, 6, 7, 8]])\n",
    "for x in np.nditer(arr[:, ::2]):\n",
    "    print(x)"
   ]
  },
  {
   "cell_type": "markdown",
   "id": "460fa776-ff10-45f6-a36e-171464168eda",
   "metadata": {},
   "source": [
    "**enumeration means mentioning sequence number of somethings one by one**"
   ]
  },
  {
   "cell_type": "code",
   "execution_count": 27,
   "id": "b3e2ca2b-b873-48b9-b7c9-4edcbd874b60",
   "metadata": {},
   "outputs": [
    {
     "name": "stdout",
     "output_type": "stream",
     "text": [
      "(0,) 1\n",
      "(1,) 2\n",
      "(2,) 3\n"
     ]
    }
   ],
   "source": [
    "arr = np.array([1, 2, 3])\n",
    "for idx, x in np.ndenumerate(arr):\n",
    "    print(idx, x)"
   ]
  },
  {
   "cell_type": "markdown",
   "id": "22ae51bb-1459-41c0-9d8c-abfb852e0f82",
   "metadata": {},
   "source": [
    "**enumerate on 2D array's elements**"
   ]
  },
  {
   "cell_type": "code",
   "execution_count": 28,
   "id": "fc9e6284-cf70-464c-b3e4-849745bcb5d0",
   "metadata": {},
   "outputs": [
    {
     "name": "stdout",
     "output_type": "stream",
     "text": [
      "(0, 0) 1\n",
      "(0, 1) 2\n",
      "(0, 2) 3\n",
      "(0, 3) 4\n",
      "(1, 0) 5\n",
      "(1, 1) 6\n",
      "(1, 2) 7\n",
      "(1, 3) 8\n"
     ]
    }
   ],
   "source": [
    "arr = np.array([[1,2,3,4],[5,6,7,8]])\n",
    "for idx, x in np.ndenumerate(arr):\n",
    "    print(idx, x)"
   ]
  },
  {
   "cell_type": "markdown",
   "id": "8b128567-207c-4d62-b8b1-c59856eb7318",
   "metadata": {},
   "source": [
    "### join array"
   ]
  },
  {
   "cell_type": "code",
   "execution_count": 29,
   "id": "90603dee-6d0a-4667-a5b8-c93fb7a30cb4",
   "metadata": {},
   "outputs": [
    {
     "name": "stdout",
     "output_type": "stream",
     "text": [
      "[1 2 3 4 5 6]\n"
     ]
    }
   ],
   "source": [
    "arr1 = np.array([1,2,3])\n",
    "arr2 = np.array([4,5,6])\n",
    "arr = np.concatenate((arr1, arr2))\n",
    "print(arr)"
   ]
  },
  {
   "cell_type": "markdown",
   "id": "0c483bca-e3bd-486e-ab48-462c831f5596",
   "metadata": {},
   "source": [
    "**join two 2D arrays along rows (axis=1)**"
   ]
  },
  {
   "cell_type": "code",
   "execution_count": 30,
   "id": "cebf5f3c-00a6-4037-9d47-e1a97feb1594",
   "metadata": {},
   "outputs": [
    {
     "name": "stdout",
     "output_type": "stream",
     "text": [
      "[[1 2 5 6]\n",
      " [3 4 7 8]]\n"
     ]
    }
   ],
   "source": [
    "arr1 = np.array([[1, 2],[3, 4]])\n",
    "arr2 = np.array([[5, 6],[7, 8]])\n",
    "arr = np.concatenate((arr1, arr2), axis=1)\n",
    "print(arr)"
   ]
  },
  {
   "cell_type": "markdown",
   "id": "6ef9ce07-3791-4515-9ac6-70d9c33641f8",
   "metadata": {},
   "source": [
    "**putting them one over the other, ie. stacking**"
   ]
  },
  {
   "cell_type": "code",
   "execution_count": 31,
   "id": "44286272-7d46-4a40-a3c7-826a5fdd8cfc",
   "metadata": {},
   "outputs": [
    {
     "name": "stdout",
     "output_type": "stream",
     "text": [
      "[[1 4]\n",
      " [2 5]\n",
      " [3 6]]\n"
     ]
    }
   ],
   "source": [
    "arr1 = np.array([1, 2, 3])\n",
    "arr2 = np.array([4, 5, 6])\n",
    "arr = np.stack((arr1, arr2), axis=1)\n",
    "print(arr)"
   ]
  },
  {
   "cell_type": "markdown",
   "id": "0bd8f4f9-f900-441f-b9f1-a96d4aabd32a",
   "metadata": {},
   "source": [
    "### Stack"
   ]
  },
  {
   "cell_type": "markdown",
   "id": "029d61ae-546d-4a1e-ad45-5158696e9bb1",
   "metadata": {},
   "source": [
    "**stack along rows**"
   ]
  },
  {
   "cell_type": "code",
   "execution_count": 32,
   "id": "aa6c996e-9b13-47eb-af10-574c26b2878e",
   "metadata": {},
   "outputs": [
    {
     "name": "stdout",
     "output_type": "stream",
     "text": [
      "[1 2 3 4 5 6]\n"
     ]
    }
   ],
   "source": [
    "arr1 = np.array([1, 2, 3])\n",
    "arr2 = np.array([4, 5, 6])\n",
    "arr = np.hstack((arr1, arr2))\n",
    "print(arr)"
   ]
  },
  {
   "cell_type": "markdown",
   "id": "1c5d27e3-1ff5-4eb0-bcca-0badcb878271",
   "metadata": {},
   "source": [
    "**stack along columns**"
   ]
  },
  {
   "cell_type": "code",
   "execution_count": 33,
   "id": "15875d65-7e7e-4b78-9ae8-5deef945ad3d",
   "metadata": {},
   "outputs": [
    {
     "name": "stdout",
     "output_type": "stream",
     "text": [
      "[[1 2 3]\n",
      " [4 5 6]]\n"
     ]
    }
   ],
   "source": [
    "arr1 = np.array([1, 2, 3])\n",
    "arr2 = np.array([4, 5, 6])\n",
    "arr = np.vstack((arr1, arr2))\n",
    "print(arr)"
   ]
  },
  {
   "cell_type": "markdown",
   "id": "f28210dc-d515-4851-996f-43d3ae32ef39",
   "metadata": {},
   "source": [
    "**stack along height, which is the same as depth**"
   ]
  },
  {
   "cell_type": "code",
   "execution_count": 34,
   "id": "28550ad6-936e-414e-ad05-e59dbe1cfd5e",
   "metadata": {},
   "outputs": [
    {
     "name": "stdout",
     "output_type": "stream",
     "text": [
      "[[[1 4]\n",
      "  [2 5]\n",
      "  [3 6]]]\n"
     ]
    }
   ],
   "source": [
    "arr1 = np.array([1, 2, 3])\n",
    "arr2 = np.array([4, 5, 6])\n",
    "arr = np.dstack((arr1, arr2))\n",
    "print(arr)"
   ]
  },
  {
   "cell_type": "markdown",
   "id": "242be472-af4d-4c40-a8a5-9dee38c7cc91",
   "metadata": {},
   "source": [
    "### split"
   ]
  },
  {
   "cell_type": "code",
   "execution_count": 35,
   "id": "df373290-0488-4659-b32b-78487b903ce5",
   "metadata": {},
   "outputs": [
    {
     "name": "stdout",
     "output_type": "stream",
     "text": [
      "[array([1, 2]), array([3, 4]), array([5, 6])]\n",
      "[array([1, 2]), array([3, 4]), array([5]), array([6])]\n"
     ]
    }
   ],
   "source": [
    "arr = np.array([1, 2, 3, 4, 5, 6])\n",
    "newarr = np.array_split(arr, 3)\n",
    "print(newarr)\n",
    "print(np.array_split(arr, 4))"
   ]
  },
  {
   "cell_type": "markdown",
   "id": "38b5b83b-c2d1-496d-8e57-80844cfc3bfd",
   "metadata": {},
   "source": [
    "**split one 2D array into three 2D arrays**"
   ]
  },
  {
   "cell_type": "code",
   "execution_count": 36,
   "id": "47c981ba-c436-4d37-a8f4-c5c378bdef45",
   "metadata": {},
   "outputs": [
    {
     "name": "stdout",
     "output_type": "stream",
     "text": [
      "[array([[1, 2],\n",
      "       [3, 4]]), array([[5, 6],\n",
      "       [7, 8]]), array([[ 9, 10],\n",
      "       [11, 12]])]\n"
     ]
    }
   ],
   "source": [
    "arr = np.array([[1, 2],[3, 4],[5, 6],[7, 8],[9, 10],[11,12]])\n",
    "newarr = np.array_split(arr, 3)\n",
    "print(newarr)"
   ]
  },
  {
   "cell_type": "markdown",
   "id": "823d65f7-1ee9-448f-97e3-c1a339fb3661",
   "metadata": {},
   "source": [
    "**split the 2D array into three 2D arrays along columns**"
   ]
  },
  {
   "cell_type": "code",
   "execution_count": 37,
   "id": "e681dbf0-fe12-41fd-8e14-f764b5d445e7",
   "metadata": {},
   "outputs": [
    {
     "name": "stdout",
     "output_type": "stream",
     "text": [
      "[array([[ 1],\n",
      "       [ 4],\n",
      "       [ 7],\n",
      "       [10],\n",
      "       [13],\n",
      "       [16]]), array([[ 2],\n",
      "       [ 5],\n",
      "       [ 8],\n",
      "       [11],\n",
      "       [14],\n",
      "       [17]]), array([[ 3],\n",
      "       [ 6],\n",
      "       [ 9],\n",
      "       [12],\n",
      "       [15],\n",
      "       [18]])]\n"
     ]
    }
   ],
   "source": [
    "arr = np.array([[1,2,3], [4, 5, 6], [7, 8, 9], [10, 11, 12], [13, 14, 15], [16, 17, 18]])\n",
    "newarr = np.array_split(arr, 3, axis=1)\n",
    "print(newarr)"
   ]
  },
  {
   "cell_type": "markdown",
   "id": "32b21738-8eb4-4b64-bf15-748cc386880b",
   "metadata": {},
   "source": [
    "**hsplit the 2D array into three 2D arrays along columns**"
   ]
  },
  {
   "cell_type": "code",
   "execution_count": 38,
   "id": "cd5fbc8e-f810-4842-9062-114fd48a2ed0",
   "metadata": {},
   "outputs": [
    {
     "name": "stdout",
     "output_type": "stream",
     "text": [
      "[array([[ 1],\n",
      "       [ 4],\n",
      "       [ 7],\n",
      "       [10],\n",
      "       [13],\n",
      "       [16]]), array([[ 2],\n",
      "       [ 5],\n",
      "       [ 8],\n",
      "       [11],\n",
      "       [14],\n",
      "       [17]]), array([[ 3],\n",
      "       [ 6],\n",
      "       [ 9],\n",
      "       [12],\n",
      "       [15],\n",
      "       [18]])]\n"
     ]
    }
   ],
   "source": [
    "newarr = np.hsplit(arr, 3)\n",
    "print(newarr) "
   ]
  },
  {
   "cell_type": "markdown",
   "id": "d6871fab-d50e-48e1-987d-e6b978159253",
   "metadata": {},
   "source": [
    "### search"
   ]
  },
  {
   "cell_type": "markdown",
   "id": "f092bccc-2248-4ffc-829b-d16fc5ced2c9",
   "metadata": {},
   "source": [
    "**search an array for a certain value, and return the indexes that get a match**"
   ]
  },
  {
   "cell_type": "code",
   "execution_count": 39,
   "id": "71b224ed-de41-452e-88f4-fdf89ddb51d9",
   "metadata": {},
   "outputs": [
    {
     "name": "stdout",
     "output_type": "stream",
     "text": [
      "(array([3, 5, 6]),)\n"
     ]
    }
   ],
   "source": [
    "arr = np.array([1, 2, 3, 4, 5, 4, 4])\n",
    "x = np.where(arr==4)\n",
    "print(x)"
   ]
  },
  {
   "cell_type": "code",
   "execution_count": 40,
   "id": "8f5e24a8-b42c-467e-a7ce-23ca5c0cb8bf",
   "metadata": {},
   "outputs": [
    {
     "name": "stdout",
     "output_type": "stream",
     "text": [
      "(array([0, 2, 4]),)\n"
     ]
    }
   ],
   "source": [
    "x = np.where(arr%2==1)\n",
    "print(x)"
   ]
  },
  {
   "cell_type": "markdown",
   "id": "dc8281f5-aa94-49cc-bebb-a0e74c58e889",
   "metadata": {},
   "source": [
    "**a method called searchsorted() which performs a binary search in the array, and return the index where the specified value would be inserted into maintain the search order**"
   ]
  },
  {
   "cell_type": "code",
   "execution_count": null,
   "id": "38ef4512-34b2-4b8a-952f-f99eb54cbe7d",
   "metadata": {},
   "outputs": [],
   "source": [
    "arr = np.array([1, 2, 3, 4, 5])\n",
    "print(np.searchsorted(arr, 7))\n",
    "arr = np.array([6, 7, 8, 9])\n",
    "print(np.searchsorted(arr, 7))\n",
    "print(np.searchsorted(arr, 7, side='right'))"
   ]
  },
  {
   "cell_type": "code",
   "execution_count": 48,
   "id": "45e8ea73-1caf-454b-b284-37c172625052",
   "metadata": {},
   "outputs": [
    {
     "name": "stdout",
     "output_type": "stream",
     "text": [
      "[0 0 0]\n",
      "[1 2 3]\n"
     ]
    }
   ],
   "source": [
    "arr = np.array([6, 7, 8, 9])\n",
    "print(np.searchsorted(arr, [2,4,6]))\n",
    "arr = np.array([1, 3, 5, 7])\n",
    "print(np.searchsorted(arr, [2,4,6]))"
   ]
  },
  {
   "cell_type": "markdown",
   "id": "6c7ae8b5-1c41-4164-996e-c9eb2d91b154",
   "metadata": {},
   "source": [
    "### Sort"
   ]
  },
  {
   "cell_type": "code",
   "execution_count": null,
   "id": "9cf6241b-b6de-4deb-9b29-f2485e8703b0",
   "metadata": {},
   "outputs": [],
   "source": [
    "arr = np.array([3,2,0,1])\n",
    "print(np.sort(arr))"
   ]
  },
  {
   "cell_type": "code",
   "execution_count": 51,
   "id": "fbba809b-6b42-4633-a0d1-a7b4b1361217",
   "metadata": {},
   "outputs": [
    {
     "name": "stdout",
     "output_type": "stream",
     "text": [
      "['apple' 'banana' 'cherry']\n"
     ]
    }
   ],
   "source": [
    "arr = np.array(['banana', 'cherry', 'apple'])\n",
    "print(np.sort(arr)) "
   ]
  },
  {
   "cell_type": "code",
   "execution_count": null,
   "id": "10743e83-043a-4ef9-ae24-98d9118944c3",
   "metadata": {},
   "outputs": [],
   "source": [
    "arr = np.array([True, False, True])\n",
    "print(np.sort(arr)) "
   ]
  },
  {
   "cell_type": "code",
   "execution_count": 53,
   "id": "39f9695b-ff84-4470-819e-696f5b46415c",
   "metadata": {},
   "outputs": [
    {
     "name": "stdout",
     "output_type": "stream",
     "text": [
      "[[2 3 4]\n",
      " [0 1 5]]\n"
     ]
    }
   ],
   "source": [
    "arr = np.array([[3,2,4],[5,0,1]])\n",
    "print(np.sort(arr))"
   ]
  },
  {
   "cell_type": "markdown",
   "id": "c6df9b67-dc3f-49a9-9cc1-d02f0665c204",
   "metadata": {},
   "source": [
    "### Filter"
   ]
  },
  {
   "cell_type": "markdown",
   "id": "1b5ce564-fa02-4540-a0b7-8efd72d89644",
   "metadata": {},
   "source": [
    "**getting some elements out of an existing array and creating a new array out of them is called filtering**\n",
    "\n",
    "\n",
    "**In Numpy, you filter an array using a boolean index list**"
   ]
  },
  {
   "cell_type": "code",
   "execution_count": 54,
   "id": "e86539c2-9b36-4d7f-a915-2dd1912d2dc8",
   "metadata": {},
   "outputs": [
    {
     "name": "stdout",
     "output_type": "stream",
     "text": [
      "[41 43]\n"
     ]
    }
   ],
   "source": [
    "arr = np.array([41, 42, 43, 44])\n",
    "x = [True, False, True, False]\n",
    "newarr = arr[x]\n",
    "print(newarr)"
   ]
  },
  {
   "cell_type": "code",
   "execution_count": 56,
   "id": "fc298c4c-65f0-4e17-ba52-f77e1ce83d59",
   "metadata": {},
   "outputs": [
    {
     "name": "stdout",
     "output_type": "stream",
     "text": [
      "[False, True, False, True, False, True, False]\n",
      "[2 4 6]\n"
     ]
    }
   ],
   "source": [
    "arr = np.array([1, 2, 3, 4, 5, 6, 7])\n",
    "filter_arr = []\n",
    "for element in arr:\n",
    "    if element % 2 == 0:\n",
    "        filter_arr.append(True)\n",
    "    else:\n",
    "        filter_arr.append(False)\n",
    "print(filter_arr)\n",
    "newarr = arr[filter_arr]\n",
    "print(newarr)"
   ]
  },
  {
   "cell_type": "markdown",
   "id": "10c7d069-7956-4569-83df-816a191cbaee",
   "metadata": {},
   "source": [
    "**create filter directly from array**"
   ]
  },
  {
   "cell_type": "code",
   "execution_count": null,
   "id": "8ac1d3d9-3e4a-4524-a0f5-eeb557fb7101",
   "metadata": {},
   "outputs": [],
   "source": [
    "arr = np.array([41, 42, 43, 44])\n",
    "filter_arr = arr > 42\n",
    "print(filter_arr)\n",
    "newarr = arr[filter_arr]\n",
    "print(newarr)"
   ]
  },
  {
   "cell_type": "code",
   "execution_count": null,
   "id": "11831672-a57d-4607-9297-29c8a7feb872",
   "metadata": {},
   "outputs": [],
   "source": [
    "arr = np.array([1, 2, 3, 4, 5, 6, 7])\n",
    "filter_arr = arr % 2 == 0\n",
    "print(filter_arr)\n",
    "newarr = arr[filter_arr]\n",
    "print(newarr)"
   ]
  },
  {
   "cell_type": "code",
   "execution_count": null,
   "id": "aa69b89a-4c9a-4f4a-8cb2-d05be6381231",
   "metadata": {},
   "outputs": [],
   "source": []
  }
 ],
 "metadata": {
  "kernelspec": {
   "display_name": "Python myenv",
   "language": "python",
   "name": "myenv"
  },
  "language_info": {
   "codemirror_mode": {
    "name": "ipython",
    "version": 3
   },
   "file_extension": ".py",
   "mimetype": "text/x-python",
   "name": "python",
   "nbconvert_exporter": "python",
   "pygments_lexer": "ipython3",
   "version": "3.13.7"
  }
 },
 "nbformat": 4,
 "nbformat_minor": 5
}
