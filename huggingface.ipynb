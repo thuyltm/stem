{
  "nbformat": 4,
  "nbformat_minor": 0,
  "metadata": {
    "colab": {
      "provenance": [],
      "authorship_tag": "ABX9TyMBTOO3H6EHLG9nHlfD28jn",
      "include_colab_link": true
    },
    "kernelspec": {
      "name": "python3",
      "display_name": "Python 3"
    },
    "language_info": {
      "name": "python"
    }
  },
  "cells": [
    {
      "cell_type": "markdown",
      "metadata": {
        "id": "view-in-github",
        "colab_type": "text"
      },
      "source": [
        "<a href=\"https://colab.research.google.com/github/thuyltm/stem/blob/main/huggingface.ipynb\" target=\"_parent\"><img src=\"https://colab.research.google.com/assets/colab-badge.svg\" alt=\"Open In Colab\"/></a>"
      ]
    },
    {
      "cell_type": "markdown",
      "source": [
        "### FineTune\n",
        "Fine-tuning adapts a pretrained model to a specific task with a smaller specialized dataset.\n"
      ],
      "metadata": {
        "id": "sMC01RqdKWF6"
      }
    },
    {
      "cell_type": "markdown",
      "source": [],
      "metadata": {
        "id": "_Sfgh6llKUOf"
      }
    },
    {
      "cell_type": "code",
      "execution_count": null,
      "metadata": {
        "id": "yNFzi_VMIdbb"
      },
      "outputs": [],
      "source": [
        "from datasets import load_dataset\n",
        "from transformers import AutoTokenizer\n",
        "dataset = load_dataset(\"yelp_review_full\")\n",
        "tokenizer = AutoTokenizer.from_pretrained(\"google-bert/bert-base-cased\")\n",
        "def tokenize(examples):\n",
        "  return tokenizer(examples[\"text\"], padding=\"max_length\", truncation=True)\n",
        "dataset = dataset.map(tokenize, batched=True)"
      ]
    },
    {
      "cell_type": "markdown",
      "source": [
        "### Trainer\n",
        "\n",
        "Trainer is a complete training and evaluation loop for Transformers' PyTorch models. Plug a model, preprocessor, dataset, and training arguments into Trainer and let it handle the rest to start training faster\n",
        "\n",
        "Trainer contains all the necessary components of a training loop\n",
        "\n",
        "1. calculate the loss from a traing step\n",
        "2. calculate the gradients with the backward method\n",
        "3. update the weights based on the gradients\n",
        "4. repeat until the predetermined number of epochs is reached\n",
        "\n"
      ],
      "metadata": {
        "id": "Gt5EGSRCI-eQ"
      }
    },
    {
      "cell_type": "markdown",
      "source": [
        "### Checkpoints\n",
        "Trainer saves checkpoints (the optimizer state is not saved by default) to the directory in output_dir in TrainingArguments to a subfolder named checkpoint-000"
      ],
      "metadata": {
        "id": "2rUDcZyiKwi5"
      }
    },
    {
      "cell_type": "markdown",
      "source": [
        "### Customize\n",
        "Tailor Trainer to your use case by subclassing or overriding its methods to support the functionality you want to add or use, without rewriting the entire training loop from scratch"
      ],
      "metadata": {
        "id": "eRIRhJ5cKxAK"
      }
    },
    {
      "cell_type": "markdown",
      "source": [
        "### Callbacks\n",
        "Callbacks are another way to customize Trainer, but they don't change anything inside the training loop. Instead, a callback inspects the training loop state and executes some action (early stopping, logging, etc.) depending on the state\n",
        "\n",
        "To use a callback, create a class that inherits from TrainerCallback and implements the functionality you want. Then pass the callback to the callback parameter in Trainer"
      ],
      "metadata": {
        "id": "NBz_wVO1KxbA"
      }
    },
    {
      "cell_type": "code",
      "source": [],
      "metadata": {
        "id": "O3NsuZ9OJfSg"
      },
      "execution_count": null,
      "outputs": []
    }
  ]
}