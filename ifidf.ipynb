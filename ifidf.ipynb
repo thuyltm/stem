{
 "cells": [
  {
   "cell_type": "markdown",
   "id": "dd39e7f5-2913-4ba2-8f3d-485bb677a5fd",
   "metadata": {},
   "source": [
    "#### TF-IDF (Term Frequency-Inverse Document Frequency)\n",
    "TF-IDF is a statistical method used in **natural language processing (NLP)** and to evaluate how important a word is to a document in relation to a larger collection of documents\n",
    "1. Term Frequency (TF): measures how often a word appears in a document. A higher frequency suggests greater importance\n",
    "   $$ IDF(t, d) = log\\frac{\\text{Number of times term t appears in document d}}{\\text{Total number of terms in document d}} $$\n",
    "2. Inverse Document Frequency (IDF): Reduces the weight of common words across multiple documents while increasing the weight of rare words. If a term appears in fewer documents, it more likely to be meaningful and specific\n",
    "    $$ IDF(t, D) = log\\frac{\\text{Total number of documents in corpus D}}{\\text{Number of documents containing term t}} $$\n",
    "\n",
    "   corous (a collection of documents)\n",
    "\n",
    "This balance allows TF-IDF to highlight terms that are both frequent within a specific document and distinctive across the text document.\n",
    "\n",
    "Taks: search ranking, text classification, keyword extraction"
   ]
  },
  {
   "cell_type": "markdown",
   "id": "c87b3eb2-afa3-4413-8d69-6938cf899117",
   "metadata": {},
   "source": [
    "##### Converting Text into Vectors"
   ]
  },
  {
   "cell_type": "markdown",
   "id": "1a4d4142-6637-43dc-9d34-8b19d9bcd3c0",
   "metadata": {},
   "source": [
    "**Implementing TF-IDF in Python**"
   ]
  },
  {
   "cell_type": "code",
   "execution_count": 4,
   "id": "ec298b8e-fd09-46c7-9060-9a092963ba63",
   "metadata": {},
   "outputs": [
    {
     "name": "stdout",
     "output_type": "stream",
     "text": [
      "\n",
      "idf values:\n",
      "for : 1.6931471805599454\n",
      "geeks : 1.2876820724517808\n",
      "r2j : 1.6931471805599454\n",
      "\n",
      "Word indexes:\n",
      "{'geeks': 1, 'for': 0, 'r2j': 2}\n",
      "\n",
      "tf-idf value:\n",
      "<Compressed Sparse Row sparse matrix of dtype 'float64'\n",
      "\twith 4 stored elements and shape (3, 3)>\n",
      "  Coords\tValues\n",
      "  (0, 1)\t0.8355915419449176\n",
      "  (0, 0)\t0.5493512310263033\n",
      "  (1, 1)\t1.0\n",
      "  (2, 2)\t1.0\n",
      "\n",
      "tf-idf values in matrix form:\n",
      "[[0.54935123 0.83559154 0.        ]\n",
      " [0.         1.         0.        ]\n",
      " [0.         0.         1.        ]]\n"
     ]
    }
   ],
   "source": [
    "from sklearn.feature_extraction.text import TfidfVectorizer\n",
    "d0 = 'Geeks for geeks'\n",
    "d1 = 'Geeks'\n",
    "d2 = 'r2j'\n",
    "string = [d0, d1, d2]\n",
    "tfidf = TfidfVectorizer()\n",
    "result = tfidf.fit_transform(string)\n",
    "print('\\nidf values:')\n",
    "for ele1, ele2 in zip(tfidf.get_feature_names_out(), tfidf.idf_):\n",
    "    print(ele1, ':', ele2)\n",
    "print('\\nWord indexes:')\n",
    "print(tfidf.vocabulary_)\n",
    "print('\\ntf-idf value:')\n",
    "print(result)\n",
    "print('\\ntf-idf values in matrix form:')\n",
    "print(result.toarray())"
   ]
  },
  {
   "cell_type": "code",
   "execution_count": null,
   "id": "26471068-b950-4160-a6bd-e55acaeebee0",
   "metadata": {},
   "outputs": [],
   "source": []
  }
 ],
 "metadata": {
  "kernelspec": {
   "display_name": "Python myenv",
   "language": "python",
   "name": "myenv"
  },
  "language_info": {
   "codemirror_mode": {
    "name": "ipython",
    "version": 3
   },
   "file_extension": ".py",
   "mimetype": "text/x-python",
   "name": "python",
   "nbconvert_exporter": "python",
   "pygments_lexer": "ipython3",
   "version": "3.13.7"
  }
 },
 "nbformat": 4,
 "nbformat_minor": 5
}
