{
 "cells": [
  {
   "cell_type": "code",
   "execution_count": 1,
   "id": "47eb130d-8fd9-4f52-a804-fede07ba0702",
   "metadata": {},
   "outputs": [],
   "source": [
    "import matplotlib\n",
    "import matplotlib.pyplot as plt\n",
    "import numpy as np"
   ]
  },
  {
   "cell_type": "markdown",
   "id": "5706475e-c234-4e32-b5be-6604c30ec01d",
   "metadata": {},
   "source": [
    "**Mark each point with the circle**"
   ]
  },
  {
   "cell_type": "code",
   "execution_count": null,
   "id": "772a25ca-2414-42fd-8236-cf13f50a6300",
   "metadata": {},
   "outputs": [],
   "source": [
    "ypoints = np.array([3, 8, 1, 10])\n",
    "\n",
    "plt.plot(ypoints, marker = 'o')\n",
    "plt.show()"
   ]
  },
  {
   "cell_type": "markdown",
   "id": "4e4d81d9-d3bf-47a5-97b9-7a813be26dfd",
   "metadata": {},
   "source": [
    "**Draw a line by a dotted line**"
   ]
  },
  {
   "cell_type": "code",
   "execution_count": null,
   "id": "399002c8-2dba-4d26-8e8d-5799eb181d51",
   "metadata": {},
   "outputs": [],
   "source": [
    "ypoints = np.array([3, 8, 1, 10])\n",
    "plt.plot(ypoints, marker = 'o', linestyle = 'dotted')\n",
    "plt.show()"
   ]
  },
  {
   "cell_type": "markdown",
   "id": "9cccca1f-801d-49d9-8aaa-b5ffb61b6eed",
   "metadata": {},
   "source": [
    "**add labels to the x- and y-axis**"
   ]
  },
  {
   "cell_type": "code",
   "execution_count": null,
   "id": "9120817c-7cb8-479d-8bb1-f04faaf7784f",
   "metadata": {},
   "outputs": [],
   "source": [
    "x = np.array([80, 85, 90, 95, 100, 105, 110, 115, 120, 125])\n",
    "y = np.array([240, 250, 260, 270, 280, 290, 300, 310, 320, 330])\n",
    "\n",
    "plt.plot(x, y)\n",
    "plt.title(\"Sports Watch Data\")\n",
    "plt.xlabel('Average Pulse')\n",
    "plt.ylabel('Calorie Burnage')\n",
    "plt.show()"
   ]
  },
  {
   "cell_type": "markdown",
   "id": "b91bc6ce-efd8-491f-b7e4-b55159ac9dc4",
   "metadata": {},
   "source": [
    "**add grid lines to a plot**"
   ]
  },
  {
   "cell_type": "code",
   "execution_count": null,
   "id": "57fad92e-67a5-4f43-a2aa-19d7ac971908",
   "metadata": {},
   "outputs": [],
   "source": [
    "x = np.array([80, 85, 90, 95, 100, 105, 110, 115, 120, 125])\n",
    "y = np.array([240, 250, 260, 270, 280, 290, 300, 310, 320, 330])\n",
    "\n",
    "plt.title(\"Sports Watch Data\")\n",
    "plt.xlabel(\"Average Pulse\")\n",
    "plt.ylabel(\"Calorie Burnage\")\n",
    "\n",
    "plt.plot(x, y)\n",
    "plt.grid()\n",
    "plt.show()"
   ]
  },
  {
   "cell_type": "markdown",
   "id": "27c7cce9-3b91-40f5-bb4c-a947a8687da8",
   "metadata": {},
   "source": [
    "**draw multiple plots in one figure**"
   ]
  },
  {
   "cell_type": "code",
   "execution_count": null,
   "id": "93dc3b0c-a69f-4c84-b4c6-39b6c130abcd",
   "metadata": {},
   "outputs": [],
   "source": [
    "#plot 1:\n",
    "x = np.array([0, 1, 2, 3])\n",
    "y = np.array([3, 8, 1, 10])\n",
    "plt.subplot(1, 2, 1)\n",
    "plt.plot(x, y)\n",
    "#plot 2:\n",
    "x = np.array([0, 1, 2, 3])\n",
    "y=np.array([10, 20, 30, 40])\n",
    "plt.subplot(1, 2, 2)\n",
    "plt.plot(x,y)\n",
    "plt.show()"
   ]
  },
  {
   "cell_type": "markdown",
   "id": "2dff01a5-354b-4bf1-a47b-c138c6a267d3",
   "metadata": {},
   "source": [
    "**ploting one dot for each observation**"
   ]
  },
  {
   "cell_type": "code",
   "execution_count": null,
   "id": "13cf4d30-bf5d-4e5c-8849-dadce481c730",
   "metadata": {},
   "outputs": [],
   "source": [
    "x = np.array([5,7,8,7,2,17,2,9,4,11,12,9,6])\n",
    "y = np.array([99,86,87,88,111,86,103,87,94,78,77,85,86])\n",
    "plt.scatter(x,y)\n",
    "plt.show()"
   ]
  },
  {
   "cell_type": "markdown",
   "id": "42e39ce9-f81a-4d99-b5a1-065a6f98634c",
   "metadata": {},
   "source": [
    "**compare plots**"
   ]
  },
  {
   "cell_type": "code",
   "execution_count": null,
   "id": "f14a1db9-b495-4f8d-a954-35cf96113562",
   "metadata": {},
   "outputs": [],
   "source": [
    "#day one, the age and speed of 13 cars:\n",
    "x = np.array([5,7,8,7,2,17,2,9,4,11,12,9,6])\n",
    "y = np.array([99,86,87,88,111,86,103,87,94,78,77,85,86])\n",
    "plt.scatter(x, y, color='hotpink')\n",
    "\n",
    "#day two, the age and speed of 15 cars:\n",
    "x = np.array([2,2,8,1,15,8,12,9,7,3,11,4,7,14,12])\n",
    "y = np.array([100,105,84,105,90,99,90,95,94,100,79,112,91,80,85])\n",
    "plt.scatter(x, y, color='#88c999')\n",
    "plt.show()"
   ]
  },
  {
   "cell_type": "markdown",
   "id": "45372923-e00b-4846-ab1a-5e68aed07212",
   "metadata": {},
   "source": [
    "**create a color array, and specify a colormap in the scatter plot**"
   ]
  },
  {
   "cell_type": "code",
   "execution_count": null,
   "id": "cc30baef-15a4-479d-a14b-b2daaba93b96",
   "metadata": {},
   "outputs": [],
   "source": [
    "x = np.random.randint(100, size=(100))\n",
    "y = np.random.randint(100, size=(100))\n",
    "colors = np.random.randint(100, size=(100))\n",
    "sizes = 10 * np.random.randint(100, size=(100))\n",
    "\n",
    "plt.scatter(x, y, c=colors, s=sizes, alpha=0.5, cmap='viridis')\n",
    "plt.colorbar()\n",
    "plt.show()"
   ]
  },
  {
   "cell_type": "code",
   "execution_count": null,
   "id": "70f3a834-814d-45b5-b398-cb55ee9d024c",
   "metadata": {},
   "outputs": [],
   "source": [
    "x = np.array([\"A\", \"B\", \"C\", \"D\"])\n",
    "y = np.array([3, 8, 1, 10])\n",
    "plt.bar(x,y,width=0.1)\n",
    "plt.show()"
   ]
  },
  {
   "cell_type": "code",
   "execution_count": null,
   "id": "de5adfc4-df03-4705-ba38-d2a314eb1a8f",
   "metadata": {},
   "outputs": [],
   "source": [
    "x = np.array([\"A\", \"B\", \"C\", \"D\"])\n",
    "y = np.array([3, 8, 1, 10])\n",
    "\n",
    "plt.barh(x, y, color=\"hotpink\", height=0.1)\n",
    "plt.show()"
   ]
  },
  {
   "cell_type": "markdown",
   "id": "a111190a-cabf-4a06-8eef-dd24adf9e8f1",
   "metadata": {},
   "source": [
    "**histogram**"
   ]
  },
  {
   "cell_type": "code",
   "execution_count": 30,
   "id": "d18595e4-74e6-4d0d-9abb-b0c44d4a1179",
   "metadata": {},
   "outputs": [
    {
     "data": {
      "image/png": "[encoded data removed]",
      "text/plain": [
       "<Figure size 640x480 with 1 Axes>"
      ]
     },
     "metadata": {},
     "output_type": "display_data"
    }
   ],
   "source": [
    "x=np.random.normal(170,10,250)\n",
    "plt.hist(x)\n",
    "plt.show()"
   ]
  },
  {
   "cell_type": "markdown",
   "id": "52631c28-b2f7-4e96-af5b-9005998ea010",
   "metadata": {},
   "source": [
    "**pie charts**"
   ]
  },
  {
   "cell_type": "code",
   "execution_count": 33,
   "id": "8060699c-38ca-4798-a35b-42c4e6784bf0",
   "metadata": {},
   "outputs": [
    {
     "data": {
      "image/png": "[encoded data removed]",
      "text/plain": [
       "<Figure size 640x480 with 1 Axes>"
      ]
     },
     "metadata": {},
     "output_type": "display_data"
    }
   ],
   "source": [
    "y=np.array([35,25,25,15])\n",
    "mylabels=[\"Apples\",\"Bananas\",\"Cherries\",\"Dates\"]\n",
    "plt.pie(y, labels=mylabels)\n",
    "plt.show()"
   ]
  },
  {
   "cell_type": "code",
   "execution_count": null,
   "id": "dea790d9-b0a8-4578-8dd2-3fdcf65aabbf",
   "metadata": {},
   "outputs": [],
   "source": []
  }
 ],
 "metadata": {
  "kernelspec": {
   "display_name": "Python myenv",
   "language": "python",
   "name": "myenv"
  },
  "language_info": {
   "codemirror_mode": {
    "name": "ipython",
    "version": 3
   },
   "file_extension": ".py",
   "mimetype": "text/x-python",
   "name": "python",
   "nbconvert_exporter": "python",
   "pygments_lexer": "ipython3",
   "version": "3.13.7"
  }
 },
 "nbformat": 4,
 "nbformat_minor": 5
}
