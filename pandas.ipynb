{
 "cells": [
  {
   "cell_type": "code",
   "execution_count": 2,
   "id": "d01d0351-bd57-4953-9a9c-79ab15159ff0",
   "metadata": {},
   "outputs": [],
   "source": [
    "import pandas as pd"
   ]
  },
  {
   "cell_type": "markdown",
   "id": "47f46689-c595-4525-8f8b-edc3e0470460",
   "metadata": {},
   "source": [
    "### dataframe"
   ]
  },
  {
   "cell_type": "markdown",
   "id": "bd163f9c-5b9d-475a-b43e-f6583ce76220",
   "metadata": {},
   "source": [
    "#### Merge"
   ]
  },
  {
   "cell_type": "code",
   "execution_count": 8,
   "id": "f9a76d04-a8ea-4950-b130-d29586e7867c",
   "metadata": {},
   "outputs": [
    {
     "name": "stdout",
     "output_type": "stream",
     "text": [
      "   ID     Name  Value  Score\n",
      "0   1    Alice   10.0   85.0\n",
      "1   2      Bob   20.0   90.0\n",
      "2   3  Charlie   30.0    NaN\n",
      "3   4      NaN    NaN   75.0\n"
     ]
    }
   ],
   "source": [
    "# Create two sample DataFrames\n",
    "df1 = pd.DataFrame({\n",
    "    'ID': [1, 2, 3],\n",
    "    'Name': ['Alice', 'Bob', 'Charlie'],\n",
    "    'Value': [10, 20, 30]\n",
    "})\n",
    "\n",
    "df2 = pd.DataFrame({\n",
    "    'ID': [1, 2, 4],\n",
    "    'Name': ['Alice', 'Robert', 'David'],\n",
    "    'Score': [85, 90, 75]\n",
    "})\n",
    "\n",
    "# Merge the DataFrames on 'ID'\n",
    "# Pandas will add _x and _y to 'Name' as it's common but not a merge key\n",
    "merged_df = pd.merge(df1, df2, on='ID', how='outer')\n",
    "\n",
    "# Identify and remove duplicate columns (e.g., keep 'Name_x' and drop 'Name_y')\n",
    "# You can choose which version to keep based on your data's context\n",
    "merged_df = merged_df.drop(columns=['Name_y'])\n",
    "\n",
    "# Optionally, rename the kept column if desired\n",
    "merged_df = merged_df.rename(columns={'Name_x': 'Name'})\n",
    "\n",
    "print(merged_df)"
   ]
  },
  {
   "cell_type": "markdown",
   "id": "8abb5316-3e35-483f-81df-d76340bc1b2e",
   "metadata": {},
   "source": [
    "##### GroupBy And Reset_Index"
   ]
  },
  {
   "cell_type": "code",
   "execution_count": 7,
   "id": "3679492e-07a6-4bba-965b-8d571b18334e",
   "metadata": {},
   "outputs": [
    {
     "name": "stdout",
     "output_type": "stream",
     "text": [
      "  Product Region  Sales\n",
      "0  Laptop  North   2500\n",
      "1  Mobile  South   2000\n"
     ]
    }
   ],
   "source": [
    "# Example dataset\n",
    "data = {\n",
    "    \"Product\": [\"Laptop\", \"Laptop\", \"Mobile\"],\n",
    "    \"Region\": [\"North\", \"North\", \"South\"],\n",
    "    \"Sales\": [1000, 1500, 2000],\n",
    "}\n",
    "\n",
    "# Create a DataFrame\n",
    "df = pd.DataFrame(data)\n",
    "\n",
    "# Group by 'Product' and 'Region' and calculate the sum of 'Sales'\n",
    "result = df.groupby([\"Product\", \"Region\"])[\"Sales\"].sum().reset_index()\n",
    "\n",
    "# Display the result\n",
    "print(result)"
   ]
  },
  {
   "cell_type": "code",
   "execution_count": null,
   "id": "f53885c5-5157-42e2-8627-70858247bbb2",
   "metadata": {},
   "outputs": [],
   "source": [
    "mydataset = {\n",
    "    'cars': [\"BMW\",\"Volvo\",\"Ford\"],\n",
    "    'passings': [3, 7, 2]\n",
    "}\n",
    "myvar = pd.DataFrame(mydataset)\n",
    "print(myvar)"
   ]
  },
  {
   "cell_type": "code",
   "execution_count": 3,
   "id": "da653b9c-0068-4f59-b41f-6ca8056ca4fd",
   "metadata": {},
   "outputs": [
    {
     "name": "stdout",
     "output_type": "stream",
     "text": [
      "       sum_value1  mean_value2\n",
      "group                         \n",
      "A              30        150.0\n",
      "B              70        350.0\n"
     ]
    }
   ],
   "source": [
    "df = pd.DataFrame({\n",
    "    'group': ['A', 'A', 'B', 'B'],\n",
    "    'value1': [10, 20, 30, 40],\n",
    "    'value2': [100, 200, 300, 400]\n",
    "})\n",
    "\n",
    "# Group and aggregate with named aggregations\n",
    "result = df.groupby('group').agg(\n",
    "    sum_value1=('value1', 'sum'),\n",
    "    mean_value2=('value2', 'mean')\n",
    ")\n",
    "print(result)"
   ]
  },
  {
   "cell_type": "code",
   "execution_count": 4,
   "id": "50c8bbd4-7e7e-46ba-8d4b-6928fb15884c",
   "metadata": {},
   "outputs": [
    {
     "name": "stdout",
     "output_type": "stream",
     "text": [
      "  Category  Value  Mean_by_Category\n",
      "0        A     10         12.333333\n",
      "1        B     20         22.500000\n",
      "2        A     15         12.333333\n",
      "3        B     25         22.500000\n",
      "4        A     12         12.333333\n"
     ]
    }
   ],
   "source": [
    "df = pd.DataFrame({\n",
    "    'Category': ['A', 'B', 'A', 'B', 'A'],\n",
    "    'Value': [10, 20, 15, 25, 12]\n",
    "})\n",
    "\n",
    "# Add a new column 'Mean_by_Category' containing the mean 'Value' for each 'Category'\n",
    "df['Mean_by_Category'] = df.groupby('Category')['Value'].transform('mean')\n",
    "\n",
    "print(df)"
   ]
  },
  {
   "cell_type": "code",
   "execution_count": 5,
   "id": "b13d8e65-2de5-4efa-a2e8-d4273f7124b8",
   "metadata": {},
   "outputs": [
    {
     "name": "stdout",
     "output_type": "stream",
     "text": [
      "  Category Subcategory  Value  Group_Mean_Value\n",
      "0        A           X     10              20.0\n",
      "1        A           Y     20              20.0\n",
      "2        B           X     15              15.0\n",
      "3        B           Y     25              30.0\n",
      "4        A           X     30              20.0\n",
      "5        B           Y     35              30.0\n"
     ]
    }
   ],
   "source": [
    "data = {'Category': ['A', 'A', 'B', 'B', 'A', 'B'],\n",
    "        'Subcategory': ['X', 'Y', 'X', 'Y', 'X', 'Y'],\n",
    "        'Value': [10, 20, 15, 25, 30, 35]}\n",
    "df = pd.DataFrame(data)\n",
    "\n",
    "# Group by 'Category' and 'Subcategory' and calculate the mean of 'Value' for each group\n",
    "# Then, use transform to broadcast this mean back to the original DataFrame\n",
    "df['Group_Mean_Value'] = df.groupby(['Category', 'Subcategory'])['Value'].transform('mean')\n",
    "\n",
    "print(df)"
   ]
  },
  {
   "cell_type": "code",
   "execution_count": 6,
   "id": "bce3e3e1-c7fb-46a1-bc00-9ffd196ef8ed",
   "metadata": {},
   "outputs": [
    {
     "name": "stdout",
     "output_type": "stream",
     "text": [
      "  Category Subcategory  Value  Group_Mean_Value\n",
      "0        A           X     10              20.0\n",
      "1        A           Y     20              20.0\n",
      "2        B           X     15              15.0\n",
      "3        B           Y     25              30.0\n",
      "4        A           X     30              20.0\n",
      "5        B           Y     35              30.0\n"
     ]
    }
   ],
   "source": [
    "\n",
    "# Sample DataFrame\n",
    "data = {'Category': ['A', 'A', 'B', 'B', 'A', 'B'],\n",
    "        'Subcategory': ['X', 'Y', 'X', 'Y', 'X', 'Y'],\n",
    "        'Value': [10, 20, 15, 25, 30, 35]}\n",
    "df = pd.DataFrame(data)\n",
    "\n",
    "# Group by 'Category' and 'Subcategory' and calculate the mean of 'Value'\n",
    "aggregated_df = df.groupby(['Category', 'Subcategory'])['Value'].mean().reset_index()\n",
    "aggregated_df.rename(columns={'Value': 'Group_Mean_Value'}, inplace=True)\n",
    "\n",
    "# Merge the aggregated results back into the original DataFrame\n",
    "df = pd.merge(df, aggregated_df, on=['Category', 'Subcategory'], how='left')\n",
    "\n",
    "print(df)"
   ]
  },
  {
   "cell_type": "markdown",
   "id": "f4a2adc1-f24e-468b-ae12-d80239ab8e3a",
   "metadata": {},
   "source": [
    "### Series\n",
    "**a pandas series is a one-dimensional array holding data of any type**"
   ]
  },
  {
   "cell_type": "code",
   "execution_count": null,
   "id": "f1faf082-f151-474f-a837-5feb8b6ccd8d",
   "metadata": {},
   "outputs": [],
   "source": [
    "a = [1, 7, 2]\n",
    "myvar = pd.Series(a)\n",
    "print(myvar)"
   ]
  },
  {
   "cell_type": "markdown",
   "id": "172de9f7-1dff-4562-9cef-e3b557c458be",
   "metadata": {},
   "source": [
    "**with the _index_ argument, you can name your own labels**"
   ]
  },
  {
   "cell_type": "code",
   "execution_count": null,
   "id": "ce003e1a-525e-4d96-9b90-1c02cf59fdf7",
   "metadata": {},
   "outputs": [],
   "source": [
    "myvar = pd.Series(a, index=[\"x\",\"y\",\"z\"])\n",
    "print(myvar)"
   ]
  },
  {
   "cell_type": "markdown",
   "id": "8ed6a562-6a70-45ce-b6b4-26d5e21a2c6b",
   "metadata": {},
   "source": [
    "**a key/value object, like a dictionary**"
   ]
  },
  {
   "cell_type": "code",
   "execution_count": null,
   "id": "7f0510fe-9d4f-46bf-9413-201162003682",
   "metadata": {},
   "outputs": [],
   "source": [
    "calories = {\"day1\":420, \"day2\": 380, \"day3\": 390}\n",
    "myvar = pd.Series(calories)\n",
    "print(myvar)"
   ]
  },
  {
   "cell_type": "markdown",
   "id": "4e5213e8-7922-4485-a1ce-263c0ed6259f",
   "metadata": {},
   "source": [
    "**create a series using only data from \"day1\" and \"day2\"**"
   ]
  },
  {
   "cell_type": "code",
   "execution_count": 11,
   "id": "29e60d81-ee8a-4158-98de-1abbf408e6e6",
   "metadata": {},
   "outputs": [
    {
     "name": "stdout",
     "output_type": "stream",
     "text": [
      "day1    420\n",
      "day2    380\n",
      "dtype: int64\n"
     ]
    }
   ],
   "source": [
    "calories = {\"day1\":420, \"day2\": 380, \"day3\": 390}\n",
    "myvar = pd.Series(calories, index=[\"day1\",\"day2\"])\n",
    "print(myvar)"
   ]
  },
  {
   "cell_type": "markdown",
   "id": "db0b1f77-41c2-46e1-90ce-d2fc4c819549",
   "metadata": {},
   "source": [
    "**Data sets in pandas are usually multi-dimensional tables, called DataFrames**\n",
    "\n",
    "**Series is like a column, a DataFrame is the whole table**"
   ]
  },
  {
   "cell_type": "code",
   "execution_count": null,
   "id": "8289dedd-42ac-4f17-81d9-2e79abdcc58d",
   "metadata": {},
   "outputs": [],
   "source": [
    "data = {\n",
    "    \"calories\": [420, 380, 390],\n",
    "    \"duration\": [50, 40, 45]\n",
    "}\n",
    "df = pd.DataFrame(data)\n",
    "print(df)"
   ]
  },
  {
   "cell_type": "markdown",
   "id": "1bbd30e0-cb02-4881-b601-118da3579c18",
   "metadata": {},
   "source": [
    "**the DataFrame is like a table with rows and columns**\n",
    "\n",
    "**the _loc_ attribute to return one or more specified row(s)**"
   ]
  },
  {
   "cell_type": "markdown",
   "id": "e73f2a19-0789-4e12-82b1-9fabbf969f58",
   "metadata": {},
   "source": [
    "**this example returns a Panda Series**"
   ]
  },
  {
   "cell_type": "code",
   "execution_count": null,
   "id": "5447fd54-d21a-44be-91be-ec7ee76ed86e",
   "metadata": {},
   "outputs": [],
   "source": [
    "print(df.loc[0])"
   ]
  },
  {
   "cell_type": "markdown",
   "id": "a2e7320c-0588-4279-8fc8-4b82fdfe07ee",
   "metadata": {},
   "source": [
    "**this example returns a Panda DataFrame**"
   ]
  },
  {
   "cell_type": "code",
   "execution_count": null,
   "id": "d517765f-59c2-4489-943c-abd9c2cc71bf",
   "metadata": {},
   "outputs": [],
   "source": [
    "print(df.loc[[0,1]])"
   ]
  },
  {
   "cell_type": "code",
   "execution_count": null,
   "id": "78c4c939-4512-4c1e-b77a-2a251c5a1c6f",
   "metadata": {},
   "outputs": [],
   "source": [
    "data = {\n",
    "    \"calories\": [420, 380, 390],\n",
    "    \"duration\": [50, 40, 45]\n",
    "}\n",
    "df = pd.DataFrame(data, index=[\"day1\",\"day2\",\"day3\"])\n",
    "print(df)"
   ]
  },
  {
   "cell_type": "code",
   "execution_count": null,
   "id": "5fa35747-5474-4def-957d-6dd0e0ce9f7e",
   "metadata": {},
   "outputs": [],
   "source": [
    "print(df.loc[\"day2\"])"
   ]
  },
  {
   "cell_type": "code",
   "execution_count": null,
   "id": "f5df333c-34bf-4814-a82d-667bb93034b0",
   "metadata": {},
   "outputs": [],
   "source": [
    "df = pd.read_csv(\"data/uber0.csv\")\n",
    "print(df)"
   ]
  },
  {
   "cell_type": "markdown",
   "id": "cc28c3ac-8eee-4337-a60b-97b940bf3c60",
   "metadata": {},
   "source": [
    "**If you have a large DataFrame with many rows, Panda will only return the first 5 rows and the last 5 rows**"
   ]
  },
  {
   "cell_type": "code",
   "execution_count": null,
   "id": "e0dd9ffa-4e76-4a74-85d9-66d5e1789cc3",
   "metadata": {},
   "outputs": [],
   "source": [
    "print(pd.options.display.max_rows)\n",
    "df = pd.read_csv(\"data/uber-raw-data-sep14.csv\")\n",
    "print(df)"
   ]
  },
  {
   "cell_type": "markdown",
   "id": "5bd7883b-447f-44fe-9fb6-689d8a48a64e",
   "metadata": {},
   "source": [
    "**you can load JSON code into a DataFrame directly**"
   ]
  },
  {
   "cell_type": "code",
   "execution_count": null,
   "id": "cb0ebbb0-41d5-4408-b341-788b60ac86e2",
   "metadata": {},
   "outputs": [],
   "source": [
    "data = {\n",
    "  \"Duration\":{\n",
    "    \"0\":60,\n",
    "    \"1\":60,\n",
    "  },\n",
    "  \"Pulse\":{\n",
    "    \"0\":110,\n",
    "    \"1\":117,\n",
    "  },\n",
    "  \"Maxpulse\":{\n",
    "    \"0\":130,\n",
    "    \"1\":145,\n",
    "  },\n",
    "  \"Calories\":{\n",
    "    \"0\":409,\n",
    "    \"1\":479,\n",
    "  }\n",
    "}\n",
    "\n",
    "df = pd.DataFrame(data)\n",
    "\n",
    "print(df) \n"
   ]
  },
  {
   "cell_type": "markdown",
   "id": "8d942e5f-a5e6-4c1b-85c1-7a28288b36ef",
   "metadata": {},
   "source": [
    "**the _head_() method returns a specified number of rows, starting from the top**"
   ]
  },
  {
   "cell_type": "code",
   "execution_count": null,
   "id": "2db7d9b8-a958-4334-b4b2-5982f58092ad",
   "metadata": {},
   "outputs": [],
   "source": [
    "df = pd.read_csv('data/uber1.csv')\n",
    "print(df.head(3))"
   ]
  },
  {
   "cell_type": "markdown",
   "id": "3f4a15c5-25b2-4f97-b13d-0f69d6f6fe02",
   "metadata": {},
   "source": [
    "**the tail() method returns a specified number of rows starting from the bottom**"
   ]
  },
  {
   "cell_type": "code",
   "execution_count": null,
   "id": "9f6f10ce-c1d6-4402-a894-ba6216c4536e",
   "metadata": {},
   "outputs": [],
   "source": [
    "print(df.tail(3))"
   ]
  },
  {
   "cell_type": "markdown",
   "id": "3c8b8276-54c1-42d3-875b-ed6aeb8c8c64",
   "metadata": {},
   "source": [
    "**a method called info() that gives you more information about the dataset**"
   ]
  },
  {
   "cell_type": "code",
   "execution_count": null,
   "id": "4d730234-d85c-435c-833a-6c1e480e5312",
   "metadata": {},
   "outputs": [],
   "source": [
    "print(df.info()) "
   ]
  },
  {
   "cell_type": "markdown",
   "id": "8cacdc73-8e88-4199-95d3-32ba67ddc86b",
   "metadata": {},
   "source": [
    "### Ploting"
   ]
  },
  {
   "cell_type": "code",
   "execution_count": 2,
   "id": "50f8039c-07c7-4cc9-93de-fd6683fda7a9",
   "metadata": {},
   "outputs": [],
   "source": [
    "import pandas as pd\n",
    "import matplotlib.pyplot as plt"
   ]
  },
  {
   "cell_type": "code",
   "execution_count": 4,
   "id": "af4ce4d0-b74d-45d9-85b9-9362cb7934b2",
   "metadata": {},
   "outputs": [
    {
     "name": "stdout",
     "output_type": "stream",
     "text": [
      "   Duration  Pulse  Maxpulse  Calories\n",
      "0        60    110       130     409.1\n",
      "1        60    117       145     479.0\n",
      "2        60    103       135     340.0\n"
     ]
    },
    {
     "data": {
      "image/png": "[encoded data removed]",
      "text/plain": [
       "<Figure size 640x480 with 1 Axes>"
      ]
     },
     "metadata": {},
     "output_type": "display_data"
    }
   ],
   "source": [
    "df = pd.read_csv('data/data.csv')\n",
    "print(df.head(3))\n",
    "df.plot()\n",
    "plt.show()"
   ]
  },
  {
   "cell_type": "code",
   "execution_count": null,
   "id": "e0124012-fa4c-4650-8dd6-eced7a3a4f69",
   "metadata": {},
   "outputs": [],
   "source": [
    "df = pd.read_csv('data/data.csv')\n",
    "df.plot(kind='scatter',x='Duration',y='Calories')\n",
    "plt.show()"
   ]
  },
  {
   "cell_type": "code",
   "execution_count": 6,
   "id": "da72e4d5-e4bf-4804-a853-7fb5f2fa6006",
   "metadata": {},
   "outputs": [
    {
     "data": {
      "image/png": "[encoded data removed]",
      "text/plain": [
       "<Figure size 640x480 with 1 Axes>"
      ]
     },
     "metadata": {},
     "output_type": "display_data"
    }
   ],
   "source": [
    "df = pd.read_csv('data/data.csv')\n",
    "df.plot(kind='scatter',x='Duration',y='Maxpulse')\n",
    "plt.show()"
   ]
  },
  {
   "cell_type": "code",
   "execution_count": 7,
   "id": "040b5030-467d-4f28-a993-827a7ed8d2d5",
   "metadata": {},
   "outputs": [
    {
     "data": {
      "text/plain": [
       "<Axes: ylabel='Frequency'>"
      ]
     },
     "execution_count": 7,
     "metadata": {},
     "output_type": "execute_result"
    },
    {
     "data": {
      "image/png": "[encoded data removed]",
      "text/plain": [
       "<Figure size 640x480 with 1 Axes>"
      ]
     },
     "metadata": {},
     "output_type": "display_data"
    }
   ],
   "source": [
    "df[\"Duration\"].plot(kind='hist')"
   ]
  },
  {
   "cell_type": "markdown",
   "id": "384a19a1-32d0-4119-88cb-9a631303ccdb",
   "metadata": {},
   "source": [
    "### Correlations"
   ]
  },
  {
   "cell_type": "markdown",
   "id": "0254bd26-5274-4e3e-9163-760e89594929",
   "metadata": {},
   "source": [
    "**the _corr_() method calculates the relationship between each column in your data set**"
   ]
  },
  {
   "cell_type": "code",
   "execution_count": 8,
   "id": "046abdc6-f249-4be4-9cf2-2f9b9827e3a0",
   "metadata": {},
   "outputs": [
    {
     "data": {
      "text/html": [
       "<div>\n",
       "<style scoped>\n",
       "    .dataframe tbody tr th:only-of-type {\n",
       "        vertical-align: middle;\n",
       "    }\n",
       "\n",
       "    .dataframe tbody tr th {\n",
       "        vertical-align: top;\n",
       "    }\n",
       "\n",
       "    .dataframe thead th {\n",
       "        text-align: right;\n",
       "    }\n",
       "</style>\n",
       "<table border=\"1\" class=\"dataframe\">\n",
       "  <thead>\n",
       "    <tr style=\"text-align: right;\">\n",
       "      <th></th>\n",
       "      <th>Duration</th>\n",
       "      <th>Pulse</th>\n",
       "      <th>Maxpulse</th>\n",
       "      <th>Calories</th>\n",
       "    </tr>\n",
       "  </thead>\n",
       "  <tbody>\n",
       "    <tr>\n",
       "      <th>Duration</th>\n",
       "      <td>1.000000</td>\n",
       "      <td>-0.155408</td>\n",
       "      <td>0.009403</td>\n",
       "      <td>0.922717</td>\n",
       "    </tr>\n",
       "    <tr>\n",
       "      <th>Pulse</th>\n",
       "      <td>-0.155408</td>\n",
       "      <td>1.000000</td>\n",
       "      <td>0.786535</td>\n",
       "      <td>0.025121</td>\n",
       "    </tr>\n",
       "    <tr>\n",
       "      <th>Maxpulse</th>\n",
       "      <td>0.009403</td>\n",
       "      <td>0.786535</td>\n",
       "      <td>1.000000</td>\n",
       "      <td>0.203813</td>\n",
       "    </tr>\n",
       "    <tr>\n",
       "      <th>Calories</th>\n",
       "      <td>0.922717</td>\n",
       "      <td>0.025121</td>\n",
       "      <td>0.203813</td>\n",
       "      <td>1.000000</td>\n",
       "    </tr>\n",
       "  </tbody>\n",
       "</table>\n",
       "</div>"
      ],
      "text/plain": [
       "          Duration     Pulse  Maxpulse  Calories\n",
       "Duration  1.000000 -0.155408  0.009403  0.922717\n",
       "Pulse    -0.155408  1.000000  0.786535  0.025121\n",
       "Maxpulse  0.009403  0.786535  1.000000  0.203813\n",
       "Calories  0.922717  0.025121  0.203813  1.000000"
      ]
     },
     "execution_count": 8,
     "metadata": {},
     "output_type": "execute_result"
    }
   ],
   "source": [
    "df.corr()"
   ]
  },
  {
   "cell_type": "markdown",
   "id": "cb724280-d9c0-4e5d-9d5d-6e4eb18dcdfd",
   "metadata": {},
   "source": [
    "### Cleaning data"
   ]
  },
  {
   "cell_type": "code",
   "execution_count": 11,
   "id": "30499a7d-f664-498b-b8a4-1761beec17cf",
   "metadata": {},
   "outputs": [
    {
     "name": "stdout",
     "output_type": "stream",
     "text": [
      "<class 'pandas.core.frame.DataFrame'>\n",
      "RangeIndex: 169 entries, 0 to 168\n",
      "Data columns (total 4 columns):\n",
      " #   Column    Non-Null Count  Dtype  \n",
      "---  ------    --------------  -----  \n",
      " 0   Duration  169 non-null    int64  \n",
      " 1   Pulse     169 non-null    int64  \n",
      " 2   Maxpulse  169 non-null    int64  \n",
      " 3   Calories  164 non-null    float64\n",
      "dtypes: float64(1), int64(3)\n",
      "memory usage: 5.4 KB\n",
      "None\n"
     ]
    }
   ],
   "source": [
    "print(df.info())"
   ]
  },
  {
   "cell_type": "markdown",
   "id": "072c80a4-7051-4a58-ac82-fffafc7f3af5",
   "metadata": {},
   "source": [
    "**the _dropna_() method returns a new DataFrame, and will not change the original**"
   ]
  },
  {
   "cell_type": "code",
   "execution_count": null,
   "id": "fee981f1-f702-40dd-be74-c7defb8d7259",
   "metadata": {},
   "outputs": [],
   "source": [
    "df = pd.read_csv('data/data.csv')\n",
    "new_df = df.dropna()\n",
    "print(new_df)"
   ]
  },
  {
   "cell_type": "markdown",
   "id": "24e36132-f2ab-4f44-9d4e-0fd5ed99d326",
   "metadata": {},
   "source": [
    "**the _dropna(inplace=True)_ will not return a new DataFrame, but it will remove all rows containing NULL values from the original DataFrame**"
   ]
  },
  {
   "cell_type": "code",
   "execution_count": 3,
   "id": "b02b5a7b-716a-407e-bd59-6ba9c5ed20cf",
   "metadata": {},
   "outputs": [
    {
     "name": "stdout",
     "output_type": "stream",
     "text": [
      "     Duration  Pulse  Maxpulse  Calories\n",
      "0          60    110       130     409.1\n",
      "1          60    117       145     479.0\n",
      "2          60    103       135     340.0\n",
      "3          45    109       175     282.4\n",
      "4          45    117       148     406.0\n",
      "..        ...    ...       ...       ...\n",
      "164        60    105       140     290.8\n",
      "165        60    110       145     300.0\n",
      "166        60    115       145     310.2\n",
      "167        75    120       150     320.4\n",
      "168        75    125       150     330.4\n",
      "\n",
      "[164 rows x 4 columns]\n"
     ]
    }
   ],
   "source": [
    "df = pd.read_csv('data/data.csv')\n",
    "df.dropna(inplace = True)\n",
    "print(df)"
   ]
  },
  {
   "cell_type": "markdown",
   "id": "c1a54e03-4b78-4abb-84f9-31a20264ea18",
   "metadata": {},
   "source": [
    "**another way of dealing with empty cells is to insert a new value instead**"
   ]
  },
  {
   "cell_type": "code",
   "execution_count": null,
   "id": "cc89f0e1-146f-4dee-92cc-51eafb8349e9",
   "metadata": {},
   "outputs": [],
   "source": [
    "df = pd.read_csv('data/data.csv')\n",
    "df.fillna(130, inplace=True)"
   ]
  },
  {
   "cell_type": "markdown",
   "id": "256e7f44-fd1d-4b8e-b3c8-d4decfa02880",
   "metadata": {},
   "source": [
    "**To only replace empty values for one column, specify the column name for the DataFrame**"
   ]
  },
  {
   "cell_type": "code",
   "execution_count": null,
   "id": "c071f4fb-6420-4ba1-8593-68473b599d05",
   "metadata": {},
   "outputs": [],
   "source": [
    "df = pd.read_csv('data/data.csv')\n",
    "df.fillna({\"Calories\":130}, inplace=True)\n",
    "print(df)"
   ]
  },
  {
   "cell_type": "markdown",
   "id": "1152aea7-0562-4909-98f4-26053c1e967c",
   "metadata": {},
   "source": [
    "**replace using mean, median, or mode**"
   ]
  },
  {
   "cell_type": "code",
   "execution_count": null,
   "id": "d4f91445-a189-4bea-8ba0-7fb62e446835",
   "metadata": {},
   "outputs": [],
   "source": [
    "df = pd.read_csv('data/data.csv')\n",
    "x = df[\"Calories\"].mean()\n",
    "df.fillna({\"Calories\": x}, inplace=True)"
   ]
  },
  {
   "cell_type": "markdown",
   "id": "7bf6f8df-6f5e-4829-9440-2f336e5eb288",
   "metadata": {},
   "source": [
    "**cells with data of wrong format can make it difficult, or even immpossible, to analyze data**\n",
    "\n",
    "**To fix it, you have two options: remove the rows, or convert all cells in the columns into the same format**"
   ]
  },
  {
   "cell_type": "code",
   "execution_count": null,
   "id": "a9594ac4-6239-41f1-b713-9a967cbad858",
   "metadata": {},
   "outputs": [],
   "source": [
    "df = pd.read_csv('data/data.csv')\n",
    "print(df)"
   ]
  },
  {
   "cell_type": "markdown",
   "id": "0fbe7412-4ea8-42fa-9e8c-b6f01f807a95",
   "metadata": {},
   "source": [
    "**set \"Duration\" = 45 in row 7**"
   ]
  },
  {
   "cell_type": "code",
   "execution_count": 6,
   "id": "8d90eb52-8725-46a2-9e1b-23702519a320",
   "metadata": {},
   "outputs": [],
   "source": [
    "df.loc[7, 'Duration'] = 45"
   ]
  },
  {
   "cell_type": "markdown",
   "id": "af084d40-0394-42cd-b1e1-a302ff2cfabd",
   "metadata": {},
   "source": [
    "**if the value is higher than 120, set it to 120**"
   ]
  },
  {
   "cell_type": "code",
   "execution_count": 7,
   "id": "1218c83d-b25c-4f5a-988f-82115d1c7e04",
   "metadata": {},
   "outputs": [],
   "source": [
    "for x in df.index:\n",
    "    if df.loc[x, \"Duration\"] > 120:\n",
    "        df.loc[x, \"Duration\"] = 120"
   ]
  },
  {
   "cell_type": "markdown",
   "id": "de05455c-e8e8-4438-9db3-7693693f825b",
   "metadata": {},
   "source": [
    "**remove the rows that contains wrong data**"
   ]
  },
  {
   "cell_type": "code",
   "execution_count": 9,
   "id": "6a99fc36-b7be-401c-baaf-ab6d8e74c1bf",
   "metadata": {},
   "outputs": [],
   "source": [
    "for x in df.index:\n",
    "    if df.loc[x, \"Duration\"] > 120:\n",
    "        df.drop(x, inplace=True)"
   ]
  },
  {
   "cell_type": "markdown",
   "id": "25240430-c281-439b-86e2-399d0859ebcf",
   "metadata": {},
   "source": [
    "**remove duplicates**"
   ]
  },
  {
   "cell_type": "code",
   "execution_count": 10,
   "id": "fa1d9dcf-f5c1-4d6d-a51c-2ca7d264a269",
   "metadata": {},
   "outputs": [],
   "source": [
    "df.drop_duplicates(inplace=True)"
   ]
  },
  {
   "cell_type": "code",
   "execution_count": null,
   "id": "92cc2895-a510-4ac4-8b76-7a88fdd1c4e9",
   "metadata": {},
   "outputs": [],
   "source": []
  }
 ],
 "metadata": {
  "kernelspec": {
   "display_name": "Python myenv",
   "language": "python",
   "name": "myenv"
  },
  "language_info": {
   "codemirror_mode": {
    "name": "ipython",
    "version": 3
   },
   "file_extension": ".py",
   "mimetype": "text/x-python",
   "name": "python",
   "nbconvert_exporter": "python",
   "pygments_lexer": "ipython3",
   "version": "3.13.7"
  }
 },
 "nbformat": 4,
 "nbformat_minor": 5
}
