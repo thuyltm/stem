{
 "cells": [
  {
   "cell_type": "markdown",
   "id": "273daefc-6d69-446b-a448-30bd48cd6291",
   "metadata": {},
   "source": [
    "### Numpy arrays are more memory efficient than lists"
   ]
  },
  {
   "cell_type": "code",
   "execution_count": 2,
   "id": "bb5dd75b-f61c-484c-a5e2-756edeaeec44",
   "metadata": {},
   "outputs": [],
   "source": [
    "from sys import getsizeof as size\n",
    "import numpy as np"
   ]
  },
  {
   "cell_type": "code",
   "execution_count": 3,
   "id": "1c1be24b-a44f-477b-9aa0-9319adf62a30",
   "metadata": {
    "scrolled": true
   },
   "outputs": [
    {
     "name": "stdout",
     "output_type": "stream",
     "text": [
      "Empty list size:\n",
      "56\n",
      "112\n"
     ]
    }
   ],
   "source": [
    "lst = []\n",
    "print(\"Empty list size:\")\n",
    "print(size(lst))\n",
    "e = np.array([])\n",
    "print(size(e))"
   ]
  },
  {
   "cell_type": "markdown",
   "id": "8acd7acd-fe3c-4f86-836f-f6451ab005e5",
   "metadata": {},
   "source": [
    "**the size of metadata list info is needed for the references to the elements**"
   ]
  },
  {
   "cell_type": "code",
   "execution_count": 4,
   "id": "4231e1da-eea5-4eac-817a-3bf7ef38e5a0",
   "metadata": {},
   "outputs": [
    {
     "name": "stdout",
     "output_type": "stream",
     "text": [
      "Size without the size of the elements:\n",
      "88\n"
     ]
    }
   ],
   "source": [
    "lst = [24, 12, 57]\n",
    "size_of_list_object = size(lst)\n",
    "print(\"Size without the size of the elements:\")\n",
    "print(size_of_list_object)"
   ]
  },
  {
   "cell_type": "markdown",
   "id": "f06ec28e-5338-460e-b6e5-9dfe1c1fed76",
   "metadata": {},
   "source": [
    "**the size of all elements of the list**"
   ]
  },
  {
   "cell_type": "code",
   "execution_count": 5,
   "id": "0c750c76-1a06-444b-9b84-a5173e6db9c2",
   "metadata": {},
   "outputs": [
    {
     "name": "stdout",
     "output_type": "stream",
     "text": [
      "Total size of list, including elements:  172\n"
     ]
    }
   ],
   "source": [
    "size_of_elements = len(lst) * size(lst[0])\n",
    "total_list_size = size_of_list_object + size_of_elements\n",
    "print(\"Total size of list, including elements: \", total_list_size)"
   ]
  },
  {
   "cell_type": "markdown",
   "id": "e369ca5c-575d-4227-903b-31627a0ffaf6",
   "metadata": {},
   "source": [
    "**the size of numpy**"
   ]
  },
  {
   "cell_type": "code",
   "execution_count": 7,
   "id": "dcc80100-1a10-48fb-8be4-f14b81dd8c2c",
   "metadata": {
    "scrolled": true
   },
   "outputs": [
    {
     "name": "stdout",
     "output_type": "stream",
     "text": [
      "Total size of list, including elements:  136\n"
     ]
    }
   ],
   "source": [
    "a = np.array([24, 12, 57])\n",
    "print(\"Total size of list, including elements: \", size(a))"
   ]
  },
  {
   "cell_type": "code",
   "execution_count": 8,
   "id": "eeb0c3b7-d80a-41ab-bdae-db62ced63a6d",
   "metadata": {},
   "outputs": [
    {
     "name": "stdout",
     "output_type": "stream",
     "text": [
      "Check numpy array sizes with different integer types:\n",
      "\n",
      "115\n",
      "118\n",
      "124\n",
      "136\n"
     ]
    }
   ],
   "source": [
    "print(\"Check numpy array sizes with different integer types:\\n\")\n",
    "a = np.array([24, 12, 57], np.int8)\n",
    "print(size(a))\n",
    "a = np.array([24, 12, 57], np.int16)\n",
    "print(size(a))\n",
    "a=np.array([24,12,57], np.int32)\n",
    "print(size(a))\n",
    "a=np.array([24,12,57], np.int64)\n",
    "print(size(a))"
   ]
  },
  {
   "cell_type": "code",
   "execution_count": 19,
   "id": "1b1436a6-0616-40e9-be1f-e6ba862b9b1a",
   "metadata": {},
   "outputs": [],
   "source": [
    "import time\n",
    "import numpy as np"
   ]
  },
  {
   "cell_type": "code",
   "execution_count": 20,
   "id": "c80e7d1e-a2ed-4378-a113-f972580c4287",
   "metadata": {},
   "outputs": [
    {
     "name": "stdout",
     "output_type": "stream",
     "text": [
      "0.00022220611572265625 0.00011682510375976562\n",
      "Numpy is in this example 1.9020408163265305 times faster\n"
     ]
    }
   ],
   "source": [
    "size_of_vec = 1000\n",
    "def pure_python_version():\n",
    "    t1 = time.time()\n",
    "    X = range(size_of_vec)\n",
    "    Y = range(size_of_vec)\n",
    "    Z = [X[i]+Y[i] for i in range(len(X))]\n",
    "    return time.time() - t1\n",
    "\n",
    "def numpy_version():\n",
    "    t1 = time.time()\n",
    "    X = np.arange(size_of_vec)\n",
    "    Y = np.arange(size_of_vec)\n",
    "    Z = X+Y\n",
    "    return time.time() - t1\n",
    "t1 = pure_python_version()\n",
    "t2 = numpy_version()\n",
    "print(t1, t2)\n",
    "print(\"Numpy is in this example \"+ str(t1/t2) + \" times faster\")"
   ]
  },
  {
   "cell_type": "code",
   "execution_count": null,
   "id": "75085baf-60a3-4c4e-add6-bad61d221c22",
   "metadata": {},
   "outputs": [],
   "source": []
  }
 ],
 "metadata": {
  "kernelspec": {
   "display_name": "Python myenv",
   "language": "python",
   "name": "myenv"
  },
  "language_info": {
   "codemirror_mode": {
    "name": "ipython",
    "version": 3
   },
   "file_extension": ".py",
   "mimetype": "text/x-python",
   "name": "python",
   "nbconvert_exporter": "python",
   "pygments_lexer": "ipython3",
   "version": "3.13.7"
  }
 },
 "nbformat": 4,
 "nbformat_minor": 5
}
